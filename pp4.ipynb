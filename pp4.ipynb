{
  "nbformat": 4,
  "nbformat_minor": 0,
  "metadata": {
    "colab": {
      "provenance": [],
      "authorship_tag": "ABX9TyPyc+GvKD0do1LJ5s3DrXPz",
      "include_colab_link": true
    },
    "kernelspec": {
      "name": "python3",
      "display_name": "Python 3"
    },
    "language_info": {
      "name": "python"
    }
  },
  "cells": [
    {
      "cell_type": "markdown",
      "metadata": {
        "id": "view-in-github",
        "colab_type": "text"
      },
      "source": [
        "<a href=\"https://colab.research.google.com/github/sshenzenss/pp/blob/main/pp4.ipynb\" target=\"_parent\"><img src=\"https://colab.research.google.com/assets/colab-badge.svg\" alt=\"Open In Colab\"/></a>"
      ]
    },
    {
      "cell_type": "code",
      "execution_count": 9,
      "metadata": {
        "colab": {
          "base_uri": "https://localhost:8080/",
          "height": 638
        },
        "id": "3SDXhR7cwJL6",
        "outputId": "e41552fb-ab51-4183-9898-081791c53aff"
      },
      "outputs": [
        {
          "output_type": "stream",
          "name": "stdout",
          "text": [
            "Requirement already satisfied: ColabTurtlePlus in /usr/local/lib/python3.12/dist-packages (2.0.1)\n"
          ]
        },
        {
          "output_type": "display_data",
          "data": {
            "text/plain": [
              "<IPython.core.display.HTML object>"
            ],
            "text/html": [
              "\n",
              "      <svg width=\"800\" height=\"600\">  \n",
              "        <rect width=\"100%\" height=\"100%\" style=\"fill:white;stroke:;stroke-width:1\"/>\n",
              "        \n",
              "        \n",
              "        <line x1=\"400.0\" y1=\"300.0\" x2=\"500.0\" y2=\"300.0\" stroke-linecap=\"round\" style=\"stroke:blue;stroke-width:1\" /><line x1=\"500.0\" y1=\"300.0\" x2=\"500.0\" y2=\"400.0\" stroke-linecap=\"round\" style=\"stroke:blue;stroke-width:1\" /><line x1=\"500.0\" y1=\"400.0\" x2=\"400.0\" y2=\"400.0\" stroke-linecap=\"round\" style=\"stroke:blue;stroke-width:1\" /><line x1=\"400.0\" y1=\"400.0\" x2=\"400.0\" y2=\"300.0\" stroke-linecap=\"round\" style=\"stroke:blue;stroke-width:1\" />\n",
              "        \n",
              "        \n",
              "        <g id=\"classic\" visibility=\"visible\" transform=\"rotate(180,400.0,300.0) translate(400.0, 300.0)\">\n",
              "<polygon points=\"-5,-4.5 0,-2.5 5,-4.5 0,4.5\" transform=\"skewX(0) scale(1,1)\" style=\"stroke:blue;fill:blue;stroke-width:1\" />\n",
              "<animateTransform id = \"one\" attributeName=\"transform\" \n",
              "                      type=\"scale\"\n",
              "                      from=\"1 1\" to=\"1 1\"\n",
              "                      begin=\"0s\" dur=\"0.01s\"\n",
              "                      repeatCount=\"1\"\n",
              "                      additive=\"sum\"\n",
              "                      fill=\"freeze\"\n",
              "                /><animateTransform attributeName=\"transform\"\n",
              "                    type=\"rotate\"\n",
              "                    from=\"0 0 0\" to =\"90 0 0\"\n",
              "                    begin=\"one.end\" dur=\"0.25s\"\n",
              "                    repeatCount=\"1\"\n",
              "                    additive=\"sum\"\n",
              "                    fill=\"freeze\"\n",
              "                /></g>\n",
              "      </svg>\n",
              "    "
            ]
          },
          "metadata": {}
        }
      ],
      "source": [
        "!pip install ColabTurtlePlus\n",
        "\n",
        "from ColabTurtlePlus.Turtle import *\n",
        "\n",
        "# initialize the turtle canvas (run once per example if you want a fresh canvas)\n",
        "initializeTurtle()\n",
        "speed(5)\n",
        "\n",
        "initializeTurtle()\n",
        "color('blue')\n",
        "for _ in range(4):\n",
        "    forward(100)\n",
        "    right(90)"
      ]
    },
    {
      "cell_type": "code",
      "source": [
        "initializeTurtle()\n",
        "color('green')\n",
        "for _ in range(3):\n",
        "    forward(120)\n",
        "    right(120)"
      ],
      "metadata": {
        "colab": {
          "base_uri": "https://localhost:8080/",
          "height": 621
        },
        "id": "kNypbFdvw0Z9",
        "outputId": "6d94ca8f-3891-40f9-fd21-861f45df1eeb"
      },
      "execution_count": 39,
      "outputs": [
        {
          "output_type": "display_data",
          "data": {
            "text/plain": [
              "<IPython.core.display.HTML object>"
            ],
            "text/html": [
              "\n",
              "      <svg width=\"800\" height=\"600\">  \n",
              "        <rect width=\"100%\" height=\"100%\" style=\"fill:white;stroke:;stroke-width:1\"/>\n",
              "        \n",
              "        \n",
              "        <line x1=\"400.0\" y1=\"300.0\" x2=\"520.0\" y2=\"300.0\" stroke-linecap=\"round\" style=\"stroke:green;stroke-width:1\" /><line x1=\"520.0\" y1=\"300.0\" x2=\"460.0\" y2=\"403.923\" stroke-linecap=\"round\" style=\"stroke:green;stroke-width:1\" /><line x1=\"460.0\" y1=\"403.923\" x2=\"400.0\" y2=\"300.0\" stroke-linecap=\"round\" style=\"stroke:green;stroke-width:1\" />\n",
              "        \n",
              "        \n",
              "        <g id=\"classic\" visibility=\"visible\" transform=\"rotate(150,400.0,300.0) translate(400.0, 300.0)\">\n",
              "<polygon points=\"-5,-4.5 0,-2.5 5,-4.5 0,4.5\" transform=\"skewX(0) scale(1,1)\" style=\"stroke:green;fill:green;stroke-width:1\" />\n",
              "<animateTransform id = \"one\" attributeName=\"transform\" \n",
              "                      type=\"scale\"\n",
              "                      from=\"1 1\" to=\"1 1\"\n",
              "                      begin=\"0s\" dur=\"0.01s\"\n",
              "                      repeatCount=\"1\"\n",
              "                      additive=\"sum\"\n",
              "                      fill=\"freeze\"\n",
              "                /><animateTransform attributeName=\"transform\"\n",
              "                    type=\"rotate\"\n",
              "                    from=\"0 0 0\" to =\"120 0 0\"\n",
              "                    begin=\"one.end\" dur=\"0.3333333333333333s\"\n",
              "                    repeatCount=\"1\"\n",
              "                    additive=\"sum\"\n",
              "                    fill=\"freeze\"\n",
              "                /></g>\n",
              "      </svg>\n",
              "    "
            ]
          },
          "metadata": {}
        }
      ]
    },
    {
      "cell_type": "code",
      "source": [
        "initializeTurtle()\n",
        "color('red')\n",
        "for _ in range(60):\n",
        "    forward(5)\n",
        "    right(6)"
      ],
      "metadata": {
        "colab": {
          "base_uri": "https://localhost:8080/",
          "height": 621
        },
        "id": "_JSkXhm7w0st",
        "outputId": "b1ceb7c2-db9a-4268-a141-9f112216918a"
      },
      "execution_count": 20,
      "outputs": [
        {
          "output_type": "display_data",
          "data": {
            "text/plain": [
              "<IPython.core.display.HTML object>"
            ],
            "text/html": [
              "\n",
              "      <svg width=\"800\" height=\"600\">  \n",
              "        <rect width=\"100%\" height=\"100%\" style=\"fill:white;stroke:;stroke-width:1\"/>\n",
              "        \n",
              "        \n",
              "        <line x1=\"400.0\" y1=\"300.0\" x2=\"405.0\" y2=\"300.0\" stroke-linecap=\"round\" style=\"stroke:red;stroke-width:1\" /><line x1=\"405.0\" y1=\"300.0\" x2=\"409.973\" y2=\"300.523\" stroke-linecap=\"round\" style=\"stroke:red;stroke-width:1\" /><line x1=\"409.973\" y1=\"300.523\" x2=\"414.864\" y2=\"301.563\" stroke-linecap=\"round\" style=\"stroke:red;stroke-width:1\" /><line x1=\"414.864\" y1=\"301.563\" x2=\"419.619\" y2=\"303.108\" stroke-linecap=\"round\" style=\"stroke:red;stroke-width:1\" /><line x1=\"419.619\" y1=\"303.108\" x2=\"424.187\" y2=\"305.142\" stroke-linecap=\"round\" style=\"stroke:red;stroke-width:1\" /><line x1=\"424.187\" y1=\"305.142\" x2=\"428.517\" y2=\"307.642\" stroke-linecap=\"round\" style=\"stroke:red;stroke-width:1\" /><line x1=\"428.517\" y1=\"307.642\" x2=\"432.562\" y2=\"310.581\" stroke-linecap=\"round\" style=\"stroke:red;stroke-width:1\" /><line x1=\"432.562\" y1=\"310.581\" x2=\"436.278\" y2=\"313.927\" stroke-linecap=\"round\" style=\"stroke:red;stroke-width:1\" /><line x1=\"436.278\" y1=\"313.927\" x2=\"439.624\" y2=\"317.643\" stroke-linecap=\"round\" style=\"stroke:red;stroke-width:1\" /><line x1=\"439.624\" y1=\"317.643\" x2=\"442.563\" y2=\"321.688\" stroke-linecap=\"round\" style=\"stroke:red;stroke-width:1\" /><line x1=\"442.563\" y1=\"321.688\" x2=\"445.063\" y2=\"326.018\" stroke-linecap=\"round\" style=\"stroke:red;stroke-width:1\" /><line x1=\"445.063\" y1=\"326.018\" x2=\"447.097\" y2=\"330.586\" stroke-linecap=\"round\" style=\"stroke:red;stroke-width:1\" /><line x1=\"447.097\" y1=\"330.586\" x2=\"448.642\" y2=\"335.341\" stroke-linecap=\"round\" style=\"stroke:red;stroke-width:1\" /><line x1=\"448.642\" y1=\"335.341\" x2=\"449.682\" y2=\"340.232\" stroke-linecap=\"round\" style=\"stroke:red;stroke-width:1\" /><line x1=\"449.682\" y1=\"340.232\" x2=\"450.205\" y2=\"345.205\" stroke-linecap=\"round\" style=\"stroke:red;stroke-width:1\" /><line x1=\"450.205\" y1=\"345.205\" x2=\"450.205\" y2=\"350.205\" stroke-linecap=\"round\" style=\"stroke:red;stroke-width:1\" /><line x1=\"450.205\" y1=\"350.205\" x2=\"449.682\" y2=\"355.178\" stroke-linecap=\"round\" style=\"stroke:red;stroke-width:1\" /><line x1=\"449.682\" y1=\"355.178\" x2=\"448.642\" y2=\"360.069\" stroke-linecap=\"round\" style=\"stroke:red;stroke-width:1\" /><line x1=\"448.642\" y1=\"360.069\" x2=\"447.097\" y2=\"364.824\" stroke-linecap=\"round\" style=\"stroke:red;stroke-width:1\" /><line x1=\"447.097\" y1=\"364.824\" x2=\"445.063\" y2=\"369.392\" stroke-linecap=\"round\" style=\"stroke:red;stroke-width:1\" /><line x1=\"445.063\" y1=\"369.392\" x2=\"442.563\" y2=\"373.722\" stroke-linecap=\"round\" style=\"stroke:red;stroke-width:1\" /><line x1=\"442.563\" y1=\"373.722\" x2=\"439.624\" y2=\"377.767\" stroke-linecap=\"round\" style=\"stroke:red;stroke-width:1\" /><line x1=\"439.624\" y1=\"377.767\" x2=\"436.278\" y2=\"381.483\" stroke-linecap=\"round\" style=\"stroke:red;stroke-width:1\" /><line x1=\"436.278\" y1=\"381.483\" x2=\"432.562\" y2=\"384.829\" stroke-linecap=\"round\" style=\"stroke:red;stroke-width:1\" /><line x1=\"432.562\" y1=\"384.829\" x2=\"428.517\" y2=\"387.768\" stroke-linecap=\"round\" style=\"stroke:red;stroke-width:1\" /><line x1=\"428.517\" y1=\"387.768\" x2=\"424.187\" y2=\"390.268\" stroke-linecap=\"round\" style=\"stroke:red;stroke-width:1\" /><line x1=\"424.187\" y1=\"390.268\" x2=\"419.619\" y2=\"392.302\" stroke-linecap=\"round\" style=\"stroke:red;stroke-width:1\" /><line x1=\"419.619\" y1=\"392.302\" x2=\"414.864\" y2=\"393.847\" stroke-linecap=\"round\" style=\"stroke:red;stroke-width:1\" /><line x1=\"414.864\" y1=\"393.847\" x2=\"409.973\" y2=\"394.887\" stroke-linecap=\"round\" style=\"stroke:red;stroke-width:1\" /><line x1=\"409.973\" y1=\"394.887\" x2=\"405.0\" y2=\"395.41\" stroke-linecap=\"round\" style=\"stroke:red;stroke-width:1\" /><line x1=\"405.0\" y1=\"395.41\" x2=\"400.0\" y2=\"395.41\" stroke-linecap=\"round\" style=\"stroke:red;stroke-width:1\" /><line x1=\"400.0\" y1=\"395.41\" x2=\"395.027\" y2=\"394.887\" stroke-linecap=\"round\" style=\"stroke:red;stroke-width:1\" /><line x1=\"395.027\" y1=\"394.887\" x2=\"390.136\" y2=\"393.847\" stroke-linecap=\"round\" style=\"stroke:red;stroke-width:1\" /><line x1=\"390.136\" y1=\"393.847\" x2=\"385.381\" y2=\"392.302\" stroke-linecap=\"round\" style=\"stroke:red;stroke-width:1\" /><line x1=\"385.381\" y1=\"392.302\" x2=\"380.813\" y2=\"390.268\" stroke-linecap=\"round\" style=\"stroke:red;stroke-width:1\" /><line x1=\"380.813\" y1=\"390.268\" x2=\"376.483\" y2=\"387.768\" stroke-linecap=\"round\" style=\"stroke:red;stroke-width:1\" /><line x1=\"376.483\" y1=\"387.768\" x2=\"372.438\" y2=\"384.829\" stroke-linecap=\"round\" style=\"stroke:red;stroke-width:1\" /><line x1=\"372.438\" y1=\"384.829\" x2=\"368.722\" y2=\"381.483\" stroke-linecap=\"round\" style=\"stroke:red;stroke-width:1\" /><line x1=\"368.722\" y1=\"381.483\" x2=\"365.376\" y2=\"377.767\" stroke-linecap=\"round\" style=\"stroke:red;stroke-width:1\" /><line x1=\"365.376\" y1=\"377.767\" x2=\"362.437\" y2=\"373.722\" stroke-linecap=\"round\" style=\"stroke:red;stroke-width:1\" /><line x1=\"362.437\" y1=\"373.722\" x2=\"359.937\" y2=\"369.392\" stroke-linecap=\"round\" style=\"stroke:red;stroke-width:1\" /><line x1=\"359.937\" y1=\"369.392\" x2=\"357.903\" y2=\"364.824\" stroke-linecap=\"round\" style=\"stroke:red;stroke-width:1\" /><line x1=\"357.903\" y1=\"364.824\" x2=\"356.358\" y2=\"360.069\" stroke-linecap=\"round\" style=\"stroke:red;stroke-width:1\" /><line x1=\"356.358\" y1=\"360.069\" x2=\"355.318\" y2=\"355.178\" stroke-linecap=\"round\" style=\"stroke:red;stroke-width:1\" /><line x1=\"355.318\" y1=\"355.178\" x2=\"354.795\" y2=\"350.205\" stroke-linecap=\"round\" style=\"stroke:red;stroke-width:1\" /><line x1=\"354.795\" y1=\"350.205\" x2=\"354.795\" y2=\"345.205\" stroke-linecap=\"round\" style=\"stroke:red;stroke-width:1\" /><line x1=\"354.795\" y1=\"345.205\" x2=\"355.318\" y2=\"340.232\" stroke-linecap=\"round\" style=\"stroke:red;stroke-width:1\" /><line x1=\"355.318\" y1=\"340.232\" x2=\"356.358\" y2=\"335.341\" stroke-linecap=\"round\" style=\"stroke:red;stroke-width:1\" /><line x1=\"356.358\" y1=\"335.341\" x2=\"357.903\" y2=\"330.586\" stroke-linecap=\"round\" style=\"stroke:red;stroke-width:1\" /><line x1=\"357.903\" y1=\"330.586\" x2=\"359.937\" y2=\"326.018\" stroke-linecap=\"round\" style=\"stroke:red;stroke-width:1\" /><line x1=\"359.937\" y1=\"326.018\" x2=\"362.437\" y2=\"321.688\" stroke-linecap=\"round\" style=\"stroke:red;stroke-width:1\" /><line x1=\"362.437\" y1=\"321.688\" x2=\"365.376\" y2=\"317.643\" stroke-linecap=\"round\" style=\"stroke:red;stroke-width:1\" /><line x1=\"365.376\" y1=\"317.643\" x2=\"368.722\" y2=\"313.927\" stroke-linecap=\"round\" style=\"stroke:red;stroke-width:1\" /><line x1=\"368.722\" y1=\"313.927\" x2=\"372.438\" y2=\"310.581\" stroke-linecap=\"round\" style=\"stroke:red;stroke-width:1\" /><line x1=\"372.438\" y1=\"310.581\" x2=\"376.483\" y2=\"307.642\" stroke-linecap=\"round\" style=\"stroke:red;stroke-width:1\" /><line x1=\"376.483\" y1=\"307.642\" x2=\"380.813\" y2=\"305.142\" stroke-linecap=\"round\" style=\"stroke:red;stroke-width:1\" /><line x1=\"380.813\" y1=\"305.142\" x2=\"385.381\" y2=\"303.108\" stroke-linecap=\"round\" style=\"stroke:red;stroke-width:1\" /><line x1=\"385.381\" y1=\"303.108\" x2=\"390.136\" y2=\"301.563\" stroke-linecap=\"round\" style=\"stroke:red;stroke-width:1\" /><line x1=\"390.136\" y1=\"301.563\" x2=\"395.027\" y2=\"300.523\" stroke-linecap=\"round\" style=\"stroke:red;stroke-width:1\" /><line x1=\"395.027\" y1=\"300.523\" x2=\"400.0\" y2=\"300.0\" stroke-linecap=\"round\" style=\"stroke:red;stroke-width:1\" />\n",
              "        \n",
              "        \n",
              "        <g id=\"classic\" visibility=\"visible\" transform=\"rotate(264,400.0,300.0) translate(400.0, 300.0)\">\n",
              "<polygon points=\"-5,-4.5 0,-2.5 5,-4.5 0,4.5\" transform=\"skewX(0) scale(1,1)\" style=\"stroke:red;fill:red;stroke-width:1\" />\n",
              "<animateTransform id = \"one\" attributeName=\"transform\" \n",
              "                      type=\"scale\"\n",
              "                      from=\"1 1\" to=\"1 1\"\n",
              "                      begin=\"0s\" dur=\"0.01s\"\n",
              "                      repeatCount=\"1\"\n",
              "                      additive=\"sum\"\n",
              "                      fill=\"freeze\"\n",
              "                /><animateTransform attributeName=\"transform\"\n",
              "                    type=\"rotate\"\n",
              "                    from=\"0 0 0\" to =\"6 0 0\"\n",
              "                    begin=\"one.end\" dur=\"0.003333333333333334s\"\n",
              "                    repeatCount=\"1\"\n",
              "                    additive=\"sum\"\n",
              "                    fill=\"freeze\"\n",
              "                /></g>\n",
              "      </svg>\n",
              "    "
            ]
          },
          "metadata": {}
        }
      ]
    },
    {
      "cell_type": "code",
      "source": [
        "initializeTurtle()\n",
        "color('purple')\n",
        "for _ in range(5):\n",
        "    forward(200)\n",
        "    right(144)"
      ],
      "metadata": {
        "colab": {
          "base_uri": "https://localhost:8080/",
          "height": 621
        },
        "id": "1JnfsnP0y6Xw",
        "outputId": "29429ae2-624c-4bbe-e708-5f9aec0ed906"
      },
      "execution_count": 21,
      "outputs": [
        {
          "output_type": "display_data",
          "data": {
            "text/plain": [
              "<IPython.core.display.HTML object>"
            ],
            "text/html": [
              "\n",
              "      <svg width=\"800\" height=\"600\">  \n",
              "        <rect width=\"100%\" height=\"100%\" style=\"fill:white;stroke:;stroke-width:1\"/>\n",
              "        \n",
              "        \n",
              "        <line x1=\"400.0\" y1=\"300.0\" x2=\"600.0\" y2=\"300.0\" stroke-linecap=\"round\" style=\"stroke:purple;stroke-width:1\" /><line x1=\"600.0\" y1=\"300.0\" x2=\"438.197\" y2=\"417.557\" stroke-linecap=\"round\" style=\"stroke:purple;stroke-width:1\" /><line x1=\"438.197\" y1=\"417.557\" x2=\"500.0\" y2=\"227.346\" stroke-linecap=\"round\" style=\"stroke:purple;stroke-width:1\" /><line x1=\"500.0\" y1=\"227.346\" x2=\"561.803\" y2=\"417.557\" stroke-linecap=\"round\" style=\"stroke:purple;stroke-width:1\" /><line x1=\"561.803\" y1=\"417.557\" x2=\"400.0\" y2=\"300.0\" stroke-linecap=\"round\" style=\"stroke:purple;stroke-width:1\" />\n",
              "        \n",
              "        \n",
              "        <g id=\"classic\" visibility=\"visible\" transform=\"rotate(126,400.0,300.0) translate(400.0, 300.0)\">\n",
              "<polygon points=\"-5,-4.5 0,-2.5 5,-4.5 0,4.5\" transform=\"skewX(0) scale(1,1)\" style=\"stroke:purple;fill:purple;stroke-width:1\" />\n",
              "<animateTransform id = \"one\" attributeName=\"transform\" \n",
              "                      type=\"scale\"\n",
              "                      from=\"1 1\" to=\"1 1\"\n",
              "                      begin=\"0s\" dur=\"0.01s\"\n",
              "                      repeatCount=\"1\"\n",
              "                      additive=\"sum\"\n",
              "                      fill=\"freeze\"\n",
              "                /><animateTransform attributeName=\"transform\"\n",
              "                    type=\"rotate\"\n",
              "                    from=\"0 0 0\" to =\"144 0 0\"\n",
              "                    begin=\"one.end\" dur=\"0.08s\"\n",
              "                    repeatCount=\"1\"\n",
              "                    additive=\"sum\"\n",
              "                    fill=\"freeze\"\n",
              "                /></g>\n",
              "      </svg>\n",
              "    "
            ]
          },
          "metadata": {}
        }
      ]
    },
    {
      "cell_type": "code",
      "source": [
        "initializeTurtle()\n",
        "color('orange')\n",
        "for i in range(60):\n",
        "    forward(i * 3)\n",
        "    right(25)"
      ],
      "metadata": {
        "colab": {
          "base_uri": "https://localhost:8080/",
          "height": 621
        },
        "id": "on-uf6vay-I3",
        "outputId": "35f96735-0bc1-469c-dbc4-124dc9eb945b"
      },
      "execution_count": 29,
      "outputs": [
        {
          "output_type": "display_data",
          "data": {
            "text/plain": [
              "<IPython.core.display.HTML object>"
            ],
            "text/html": [
              "\n",
              "      <svg width=\"800\" height=\"600\">  \n",
              "        <rect width=\"100%\" height=\"100%\" style=\"fill:white;stroke:;stroke-width:1\"/>\n",
              "        \n",
              "        \n",
              "        <line x1=\"400.0\" y1=\"300.0\" x2=\"400.0\" y2=\"300.0\" stroke-linecap=\"round\" style=\"stroke:orange;stroke-width:1\" /><line x1=\"400.0\" y1=\"300.0\" x2=\"402.719\" y2=\"301.268\" stroke-linecap=\"round\" style=\"stroke:orange;stroke-width:1\" /><line x1=\"402.719\" y1=\"301.268\" x2=\"406.576\" y2=\"305.864\" stroke-linecap=\"round\" style=\"stroke:orange;stroke-width:1\" /><line x1=\"406.576\" y1=\"305.864\" x2=\"408.905\" y2=\"314.557\" stroke-linecap=\"round\" style=\"stroke:orange;stroke-width:1\" /><line x1=\"408.905\" y1=\"314.557\" x2=\"406.821\" y2=\"326.375\" stroke-linecap=\"round\" style=\"stroke:orange;stroke-width:1\" /><line x1=\"406.821\" y1=\"326.375\" x2=\"398.217\" y2=\"338.662\" stroke-linecap=\"round\" style=\"stroke:orange;stroke-width:1\" /><line x1=\"398.217\" y1=\"338.662\" x2=\"382.629\" y2=\"347.662\" stroke-linecap=\"round\" style=\"stroke:orange;stroke-width:1\" /><line x1=\"382.629\" y1=\"347.662\" x2=\"361.709\" y2=\"349.492\" stroke-linecap=\"round\" style=\"stroke:orange;stroke-width:1\" /><line x1=\"361.709\" y1=\"349.492\" x2=\"339.156\" y2=\"341.284\" stroke-linecap=\"round\" style=\"stroke:orange;stroke-width:1\" /><line x1=\"339.156\" y1=\"341.284\" x2=\"320.064\" y2=\"322.192\" stroke-linecap=\"round\" style=\"stroke:orange;stroke-width:1\" /><line x1=\"320.064\" y1=\"322.192\" x2=\"309.803\" y2=\"294.001\" stroke-linecap=\"round\" style=\"stroke:orange;stroke-width:1\" /><line x1=\"309.803\" y1=\"294.001\" x2=\"312.679\" y2=\"261.127\" stroke-linecap=\"round\" style=\"stroke:orange;stroke-width:1\" /><line x1=\"312.679\" y1=\"261.127\" x2=\"330.679\" y2=\"229.95\" stroke-linecap=\"round\" style=\"stroke:orange;stroke-width:1\" /><line x1=\"330.679\" y1=\"229.95\" x2=\"362.626\" y2=\"207.581\" stroke-linecap=\"round\" style=\"stroke:orange;stroke-width:1\" /><line x1=\"362.626\" y1=\"207.581\" x2=\"403.988\" y2=\"200.288\" stroke-linecap=\"round\" style=\"stroke:orange;stroke-width:1\" /><line x1=\"403.988\" y1=\"200.288\" x2=\"447.455\" y2=\"211.935\" stroke-linecap=\"round\" style=\"stroke:orange;stroke-width:1\" /><line x1=\"447.455\" y1=\"211.935\" x2=\"484.225\" y2=\"242.789\" stroke-linecap=\"round\" style=\"stroke:orange;stroke-width:1\" /><line x1=\"484.225\" y1=\"242.789\" x2=\"505.779\" y2=\"289.011\" stroke-linecap=\"round\" style=\"stroke:orange;stroke-width:1\" /><line x1=\"505.779\" y1=\"289.011\" x2=\"505.779\" y2=\"343.011\" stroke-linecap=\"round\" style=\"stroke:orange;stroke-width:1\" /><line x1=\"505.779\" y1=\"343.011\" x2=\"481.69\" y2=\"394.671\" stroke-linecap=\"round\" style=\"stroke:orange;stroke-width:1\" /><line x1=\"481.69\" y1=\"394.671\" x2=\"435.727\" y2=\"433.238\" stroke-linecap=\"round\" style=\"stroke:orange;stroke-width:1\" /><line x1=\"435.727\" y1=\"433.238\" x2=\"374.874\" y2=\"449.544\" stroke-linecap=\"round\" style=\"stroke:orange;stroke-width:1\" /><line x1=\"374.874\" y1=\"449.544\" x2=\"309.877\" y2=\"438.083\" stroke-linecap=\"round\" style=\"stroke:orange;stroke-width:1\" /><line x1=\"309.877\" y1=\"438.083\" x2=\"253.356\" y2=\"398.506\" stroke-linecap=\"round\" style=\"stroke:orange;stroke-width:1\" /><line x1=\"253.356\" y1=\"398.506\" x2=\"217.356\" y2=\"336.152\" stroke-linecap=\"round\" style=\"stroke:orange;stroke-width:1\" /><line x1=\"217.356\" y1=\"336.152\" x2=\"210.819\" y2=\"261.437\" stroke-linecap=\"round\" style=\"stroke:orange;stroke-width:1\" /><line x1=\"210.819\" y1=\"261.437\" x2=\"237.497\" y2=\"188.141\" stroke-linecap=\"round\" style=\"stroke:orange;stroke-width:1\" /><line x1=\"237.497\" y1=\"188.141\" x2=\"294.773\" y2=\"130.865\" stroke-linecap=\"round\" style=\"stroke:orange;stroke-width:1\" /><line x1=\"294.773\" y1=\"130.865\" x2=\"373.707\" y2=\"102.135\" stroke-linecap=\"round\" style=\"stroke:orange;stroke-width:1\" /><line x1=\"373.707\" y1=\"102.135\" x2=\"460.376\" y2=\"109.718\" stroke-linecap=\"round\" style=\"stroke:orange;stroke-width:1\" /><line x1=\"460.376\" y1=\"109.718\" x2=\"538.318\" y2=\"154.718\" stroke-linecap=\"round\" style=\"stroke:orange;stroke-width:1\" /><line x1=\"538.318\" y1=\"154.718\" x2=\"591.661\" y2=\"230.899\" stroke-linecap=\"round\" style=\"stroke:orange;stroke-width:1\" /><line x1=\"591.661\" y1=\"230.899\" x2=\"608.331\" y2=\"325.441\" stroke-linecap=\"round\" style=\"stroke:orange;stroke-width:1\" /><line x1=\"608.331\" y1=\"325.441\" x2=\"582.708\" y2=\"421.068\" stroke-linecap=\"round\" style=\"stroke:orange;stroke-width:1\" /><line x1=\"582.708\" y1=\"421.068\" x2=\"517.144\" y2=\"499.205\" stroke-linecap=\"round\" style=\"stroke:orange;stroke-width:1\" /><line x1=\"517.144\" y1=\"499.205\" x2=\"421.982\" y2=\"543.58\" stroke-linecap=\"round\" style=\"stroke:orange;stroke-width:1\" /><line x1=\"421.982\" y1=\"543.58\" x2=\"313.982\" y2=\"543.58\" stroke-linecap=\"round\" style=\"stroke:orange;stroke-width:1\" /><line x1=\"313.982\" y1=\"543.58\" x2=\"213.382\" y2=\"496.669\" stroke-linecap=\"round\" style=\"stroke:orange;stroke-width:1\" /><line x1=\"213.382\" y1=\"496.669\" x2=\"140.104\" y2=\"409.34\" stroke-linecap=\"round\" style=\"stroke:orange;stroke-width:1\" /><line x1=\"140.104\" y1=\"409.34\" x2=\"109.822\" y2=\"296.327\" stroke-linecap=\"round\" style=\"stroke:orange;stroke-width:1\" /><line x1=\"109.822\" y1=\"296.327\" x2=\"130.66\" y2=\"178.15\" stroke-linecap=\"round\" style=\"stroke:orange;stroke-width:1\" /><line x1=\"130.66\" y1=\"178.15\" x2=\"201.21\" y2=\"77.394\" stroke-linecap=\"round\" style=\"stroke:orange;stroke-width:1\" /><line x1=\"201.21\" y1=\"77.394\" x2=\"310.329\" y2=\"14.394\" stroke-linecap=\"round\" style=\"stroke:orange;stroke-width:1\" /><line x1=\"310.329\" y1=\"14.394\" x2=\"438.838\" y2=\"3.151\" stroke-linecap=\"round\" style=\"stroke:orange;stroke-width:1\" /><line x1=\"438.838\" y1=\"3.151\" x2=\"562.877\" y2=\"48.298\" stroke-linecap=\"round\" style=\"stroke:orange;stroke-width:1\" /><line x1=\"562.877\" y1=\"48.298\" x2=\"658.336\" y2=\"143.757\" stroke-linecap=\"round\" style=\"stroke:orange;stroke-width:1\" /><line x1=\"658.336\" y1=\"143.757\" x2=\"705.535\" y2=\"273.435\" stroke-linecap=\"round\" style=\"stroke:orange;stroke-width:1\" /><line x1=\"705.535\" y1=\"273.435\" x2=\"693.246\" y2=\"413.898\" stroke-linecap=\"round\" style=\"stroke:orange;stroke-width:1\" /><line x1=\"693.246\" y1=\"413.898\" x2=\"621.246\" y2=\"538.606\" stroke-linecap=\"round\" style=\"stroke:orange;stroke-width:1\" /><line x1=\"621.246\" y1=\"538.606\" x2=\"500.831\" y2=\"622.922\" stroke-linecap=\"round\" style=\"stroke:orange;stroke-width:1\" /><line x1=\"500.831\" y1=\"622.922\" x2=\"353.11\" y2=\"648.969\" stroke-linecap=\"round\" style=\"stroke:orange;stroke-width:1\" /><line x1=\"353.11\" y1=\"648.969\" x2=\"205.323\" y2=\"609.37\" stroke-linecap=\"round\" style=\"stroke:orange;stroke-width:1\" /><line x1=\"205.323\" y1=\"609.37\" x2=\"85.82\" y2=\"509.095\" stroke-linecap=\"round\" style=\"stroke:orange;stroke-width:1\" /><line x1=\"85.82\" y1=\"509.095\" x2=\"18.624\" y2=\"364.992\" stroke-linecap=\"round\" style=\"stroke:orange;stroke-width:1\" /><line x1=\"18.624\" y1=\"364.992\" x2=\"18.624\" y2=\"202.992\" stroke-linecap=\"round\" style=\"stroke:orange;stroke-width:1\" /><line x1=\"18.624\" y1=\"202.992\" x2=\"88.356\" y2=\"53.451\" stroke-linecap=\"round\" style=\"stroke:orange;stroke-width:1\" /><line x1=\"88.356\" y1=\"53.451\" x2=\"217.051\" y2=\"-54.537\" stroke-linecap=\"round\" style=\"stroke:orange;stroke-width:1\" /><line x1=\"217.051\" y1=\"-54.537\" x2=\"382.224\" y2=\"-98.795\" stroke-linecap=\"round\" style=\"stroke:orange;stroke-width:1\" /><line x1=\"382.224\" y1=\"-98.795\" x2=\"553.581\" y2=\"-68.58\" stroke-linecap=\"round\" style=\"stroke:orange;stroke-width:1\" /><line x1=\"553.581\" y1=\"-68.58\" x2=\"698.571\" y2=\"32.943\" stroke-linecap=\"round\" style=\"stroke:orange;stroke-width:1\" />\n",
              "        \n",
              "        \n",
              "        <g id=\"classic\" visibility=\"visible\" transform=\"rotate(-55,698.571,32.943) translate(698.571, 32.943)\">\n",
              "<polygon points=\"-5,-4.5 0,-2.5 5,-4.5 0,4.5\" transform=\"skewX(0) scale(1,1)\" style=\"stroke:orange;fill:orange;stroke-width:1\" />\n",
              "<animateTransform id = \"one\" attributeName=\"transform\" \n",
              "                      type=\"scale\"\n",
              "                      from=\"1 1\" to=\"1 1\"\n",
              "                      begin=\"0s\" dur=\"0.01s\"\n",
              "                      repeatCount=\"1\"\n",
              "                      additive=\"sum\"\n",
              "                      fill=\"freeze\"\n",
              "                /><animateTransform attributeName=\"transform\"\n",
              "                    type=\"rotate\"\n",
              "                    from=\"0 0 0\" to =\"25 0 0\"\n",
              "                    begin=\"one.end\" dur=\"0.013888888888888888s\"\n",
              "                    repeatCount=\"1\"\n",
              "                    additive=\"sum\"\n",
              "                    fill=\"freeze\"\n",
              "                /></g>\n",
              "      </svg>\n",
              "    "
            ]
          },
          "metadata": {}
        }
      ]
    },
    {
      "cell_type": "code",
      "source": [
        "initializeTurtle()\n",
        "colors = ['red','orange','yellow','green','blue','purple']\n",
        "pensize(2)\n",
        "for i in range(36):\n",
        "    pencolor(colors[i % len(colors)])\n",
        "    forward(100)\n",
        "    right(170)"
      ],
      "metadata": {
        "colab": {
          "base_uri": "https://localhost:8080/",
          "height": 621
        },
        "id": "IGnrEJ-3zKtI",
        "outputId": "ea474dee-41f4-4539-e9da-82c32a3a9932"
      },
      "execution_count": 22,
      "outputs": [
        {
          "output_type": "display_data",
          "data": {
            "text/plain": [
              "<IPython.core.display.HTML object>"
            ],
            "text/html": [
              "\n",
              "      <svg width=\"800\" height=\"600\">  \n",
              "        <rect width=\"100%\" height=\"100%\" style=\"fill:white;stroke:;stroke-width:1\"/>\n",
              "        \n",
              "        \n",
              "        <line x1=\"400.0\" y1=\"300.0\" x2=\"500.0\" y2=\"300.0\" stroke-linecap=\"round\" style=\"stroke:red;stroke-width:2\" /><line x1=\"500.0\" y1=\"300.0\" x2=\"401.519\" y2=\"317.365\" stroke-linecap=\"round\" style=\"stroke:orange;stroke-width:2\" /><line x1=\"401.519\" y1=\"317.365\" x2=\"495.488\" y2=\"283.163\" stroke-linecap=\"round\" style=\"stroke:yellow;stroke-width:2\" /><line x1=\"495.488\" y1=\"283.163\" x2=\"408.885\" y2=\"333.163\" stroke-linecap=\"round\" style=\"stroke:green;stroke-width:2\" /><line x1=\"408.885\" y1=\"333.163\" x2=\"485.489\" y2=\"268.884\" stroke-linecap=\"round\" style=\"stroke:blue;stroke-width:2\" /><line x1=\"485.489\" y1=\"268.884\" x2=\"421.21\" y2=\"345.488\" stroke-linecap=\"round\" style=\"stroke:purple;stroke-width:2\" /><line x1=\"421.21\" y1=\"345.488\" x2=\"471.21\" y2=\"258.885\" stroke-linecap=\"round\" style=\"stroke:red;stroke-width:2\" /><line x1=\"471.21\" y1=\"258.885\" x2=\"437.008\" y2=\"352.854\" stroke-linecap=\"round\" style=\"stroke:orange;stroke-width:2\" /><line x1=\"437.008\" y1=\"352.854\" x2=\"454.373\" y2=\"254.373\" stroke-linecap=\"round\" style=\"stroke:yellow;stroke-width:2\" /><line x1=\"454.373\" y1=\"254.373\" x2=\"454.373\" y2=\"354.373\" stroke-linecap=\"round\" style=\"stroke:green;stroke-width:2\" /><line x1=\"454.373\" y1=\"354.373\" x2=\"437.008\" y2=\"255.892\" stroke-linecap=\"round\" style=\"stroke:blue;stroke-width:2\" /><line x1=\"437.008\" y1=\"255.892\" x2=\"471.21\" y2=\"349.861\" stroke-linecap=\"round\" style=\"stroke:purple;stroke-width:2\" /><line x1=\"471.21\" y1=\"349.861\" x2=\"421.21\" y2=\"263.258\" stroke-linecap=\"round\" style=\"stroke:red;stroke-width:2\" /><line x1=\"421.21\" y1=\"263.258\" x2=\"485.489\" y2=\"339.862\" stroke-linecap=\"round\" style=\"stroke:orange;stroke-width:2\" /><line x1=\"485.489\" y1=\"339.862\" x2=\"408.885\" y2=\"275.583\" stroke-linecap=\"round\" style=\"stroke:yellow;stroke-width:2\" /><line x1=\"408.885\" y1=\"275.583\" x2=\"495.488\" y2=\"325.583\" stroke-linecap=\"round\" style=\"stroke:green;stroke-width:2\" /><line x1=\"495.488\" y1=\"325.583\" x2=\"401.519\" y2=\"291.381\" stroke-linecap=\"round\" style=\"stroke:blue;stroke-width:2\" /><line x1=\"401.519\" y1=\"291.381\" x2=\"500.0\" y2=\"308.746\" stroke-linecap=\"round\" style=\"stroke:purple;stroke-width:2\" /><line x1=\"500.0\" y1=\"308.746\" x2=\"400.0\" y2=\"308.746\" stroke-linecap=\"round\" style=\"stroke:red;stroke-width:2\" /><line x1=\"400.0\" y1=\"308.746\" x2=\"498.481\" y2=\"291.381\" stroke-linecap=\"round\" style=\"stroke:orange;stroke-width:2\" /><line x1=\"498.481\" y1=\"291.381\" x2=\"404.512\" y2=\"325.583\" stroke-linecap=\"round\" style=\"stroke:yellow;stroke-width:2\" /><line x1=\"404.512\" y1=\"325.583\" x2=\"491.115\" y2=\"275.583\" stroke-linecap=\"round\" style=\"stroke:green;stroke-width:2\" /><line x1=\"491.115\" y1=\"275.583\" x2=\"414.511\" y2=\"339.862\" stroke-linecap=\"round\" style=\"stroke:blue;stroke-width:2\" /><line x1=\"414.511\" y1=\"339.862\" x2=\"478.79\" y2=\"263.258\" stroke-linecap=\"round\" style=\"stroke:purple;stroke-width:2\" /><line x1=\"478.79\" y1=\"263.258\" x2=\"428.79\" y2=\"349.861\" stroke-linecap=\"round\" style=\"stroke:red;stroke-width:2\" /><line x1=\"428.79\" y1=\"349.861\" x2=\"462.992\" y2=\"255.892\" stroke-linecap=\"round\" style=\"stroke:orange;stroke-width:2\" /><line x1=\"462.992\" y1=\"255.892\" x2=\"445.627\" y2=\"354.373\" stroke-linecap=\"round\" style=\"stroke:yellow;stroke-width:2\" /><line x1=\"445.627\" y1=\"354.373\" x2=\"445.627\" y2=\"254.373\" stroke-linecap=\"round\" style=\"stroke:green;stroke-width:2\" /><line x1=\"445.627\" y1=\"254.373\" x2=\"462.992\" y2=\"352.854\" stroke-linecap=\"round\" style=\"stroke:blue;stroke-width:2\" /><line x1=\"462.992\" y1=\"352.854\" x2=\"428.79\" y2=\"258.885\" stroke-linecap=\"round\" style=\"stroke:purple;stroke-width:2\" /><line x1=\"428.79\" y1=\"258.885\" x2=\"478.79\" y2=\"345.488\" stroke-linecap=\"round\" style=\"stroke:red;stroke-width:2\" /><line x1=\"478.79\" y1=\"345.488\" x2=\"414.511\" y2=\"268.884\" stroke-linecap=\"round\" style=\"stroke:orange;stroke-width:2\" /><line x1=\"414.511\" y1=\"268.884\" x2=\"491.115\" y2=\"333.163\" stroke-linecap=\"round\" style=\"stroke:yellow;stroke-width:2\" /><line x1=\"491.115\" y1=\"333.163\" x2=\"404.512\" y2=\"283.163\" stroke-linecap=\"round\" style=\"stroke:green;stroke-width:2\" /><line x1=\"404.512\" y1=\"283.163\" x2=\"498.481\" y2=\"317.365\" stroke-linecap=\"round\" style=\"stroke:blue;stroke-width:2\" /><line x1=\"498.481\" y1=\"317.365\" x2=\"400.0\" y2=\"300.0\" stroke-linecap=\"round\" style=\"stroke:purple;stroke-width:2\" />\n",
              "        \n",
              "        \n",
              "        <g id=\"classic\" visibility=\"visible\" transform=\"rotate(100,400.0,300.0) translate(400.0, 300.0)\">\n",
              "<polygon points=\"-5,-4.5 0,-2.5 5,-4.5 0,4.5\" transform=\"skewX(0) scale(1,1)\" style=\"stroke:purple;fill:black;stroke-width:1\" />\n",
              "<animateTransform id = \"one\" attributeName=\"transform\" \n",
              "                      type=\"scale\"\n",
              "                      from=\"1 1\" to=\"1 1\"\n",
              "                      begin=\"0s\" dur=\"0.01s\"\n",
              "                      repeatCount=\"1\"\n",
              "                      additive=\"sum\"\n",
              "                      fill=\"freeze\"\n",
              "                /><animateTransform attributeName=\"transform\"\n",
              "                    type=\"rotate\"\n",
              "                    from=\"0 0 0\" to =\"170 0 0\"\n",
              "                    begin=\"one.end\" dur=\"0.09444444444444444s\"\n",
              "                    repeatCount=\"1\"\n",
              "                    additive=\"sum\"\n",
              "                    fill=\"freeze\"\n",
              "                /></g>\n",
              "      </svg>\n",
              "    "
            ]
          },
          "metadata": {}
        }
      ]
    },
    {
      "cell_type": "code",
      "source": [
        "from ColabTurtlePlus.Turtle import *\n",
        "\n",
        "initializeTurtle()\n",
        "speed(5)\n",
        "\n",
        "# Kotak pertama - merah\n",
        "pencolor(\"black\")\n",
        "fillcolor(\"red\")\n",
        "begin_fill()\n",
        "for _ in range(4):\n",
        "    forward(80)\n",
        "    right(90)\n",
        "end_fill()\n",
        "\n",
        "penup()\n",
        "forward(100)\n",
        "pendown()"
      ],
      "metadata": {
        "colab": {
          "base_uri": "https://localhost:8080/",
          "height": 621
        },
        "id": "_7uNR67AzTIZ",
        "outputId": "c5202c89-2fe5-4549-875a-002104b0b0a4"
      },
      "execution_count": 16,
      "outputs": [
        {
          "output_type": "display_data",
          "data": {
            "text/plain": [
              "<IPython.core.display.HTML object>"
            ],
            "text/html": [
              "\n",
              "      <svg width=\"800\" height=\"600\">  \n",
              "        <rect width=\"100%\" height=\"100%\" style=\"fill:white;stroke:;stroke-width:1\"/>\n",
              "        \n",
              "        \n",
              "        <path fill-rule=\"evenodd\" fill-opacity=\"1\" d=\"M 400.0 300.0  L 480.0 300.0  L 480.0 380.0  L 400.0 380.0  L 400.0 300.0 \" stroke-linecap=\"round\" style=\"stroke:black;stroke-width:1\" fill=\"red\" />\n",
              "        \n",
              "        \n",
              "        <g id=\"classic\" visibility=\"visible\" transform=\"rotate(-90,500.0,300.0) translate(500.0, 300.0)\">\n",
              "<polygon points=\"-5,-4.5 0,-2.5 5,-4.5 0,4.5\" transform=\"skewX(0) scale(1,1)\" style=\"stroke:black;fill:red;stroke-width:1\" />\n",
              "</g>\n",
              "      </svg>\n",
              "    "
            ]
          },
          "metadata": {}
        }
      ]
    },
    {
      "cell_type": "code",
      "source": [
        "from ColabTurtlePlus.Turtle import *\n",
        "\n",
        "initializeTurtle()\n",
        "speed(5)\n",
        "\n",
        "# Kotak pertama - merah\n",
        "pencolor(\"black\")\n",
        "fillcolor(\"red\")\n",
        "begin_fill()\n",
        "for _ in range(4):\n",
        "    forward(80)\n",
        "    right(90)\n",
        "end_fill()\n",
        "\n",
        "penup()\n",
        "forward(100)\n",
        "pendown()\n",
        "\n",
        "pencolor(\"black\")\n",
        "fillcolor(\"white\")\n",
        "begin_fill()\n",
        "for _ in range(4):\n",
        "    forward(80)\n",
        "    right(90)\n",
        "end_fill()\n",
        "\n",
        "penup()\n",
        "forward(100)\n",
        "pendown()\n",
        "\n",
        "pencolor(\"black\")\n",
        "fillcolor(\"blue\")\n",
        "begin_fill()\n",
        "for _ in range(4):\n",
        "    forward(80)\n",
        "    right(90)\n",
        "end_fill()\n",
        "\n",
        "penup()\n",
        "forward(100)\n",
        "pendown()\n",
        "\n"
      ],
      "metadata": {
        "colab": {
          "base_uri": "https://localhost:8080/",
          "height": 621
        },
        "id": "cgVUdqMo343_",
        "outputId": "505699bf-578d-49d7-f628-efe0342d3690"
      },
      "execution_count": 35,
      "outputs": [
        {
          "output_type": "display_data",
          "data": {
            "text/plain": [
              "<IPython.core.display.HTML object>"
            ],
            "text/html": [
              "\n",
              "      <svg width=\"800\" height=\"600\">  \n",
              "        <rect width=\"100%\" height=\"100%\" style=\"fill:white;stroke:;stroke-width:1\"/>\n",
              "        \n",
              "        \n",
              "        <path fill-rule=\"evenodd\" fill-opacity=\"1\" d=\"M 400.0 300.0  L 480.0 300.0  L 480.0 380.0  L 400.0 380.0  L 400.0 300.0 \" stroke-linecap=\"round\" style=\"stroke:black;stroke-width:1\" fill=\"red\" /><path fill-rule=\"evenodd\" fill-opacity=\"1\" d=\"M 500.0 300.0  L 580.0 300.0  L 580.0 380.0  L 500.0 380.0  L 500.0 300.0 \" stroke-linecap=\"round\" style=\"stroke:black;stroke-width:1\" fill=\"white\" /><path fill-rule=\"evenodd\" fill-opacity=\"1\" d=\"M 600.0 300.0  L 680.0 300.0  L 680.0 380.0  L 600.0 380.0  L 600.0 300.0 \" stroke-linecap=\"round\" style=\"stroke:black;stroke-width:1\" fill=\"blue\" />\n",
              "        \n",
              "        \n",
              "        <g id=\"classic\" visibility=\"visible\" transform=\"rotate(-90,700.0,300.0) translate(700.0, 300.0)\">\n",
              "<polygon points=\"-5,-4.5 0,-2.5 5,-4.5 0,4.5\" transform=\"skewX(0) scale(1,1)\" style=\"stroke:black;fill:blue;stroke-width:1\" />\n",
              "</g>\n",
              "      </svg>\n",
              "    "
            ]
          },
          "metadata": {}
        }
      ]
    },
    {
      "cell_type": "code",
      "source": [
        "initializeTurtle()\n",
        "color(\"pink\")\n",
        "for _ in range(3):\n",
        "    right(120)\n",
        "    forward(120)\n",
        "\n",
        "penup()\n",
        "right(72)\n",
        "pendown()\n",
        "\n",
        "for _ in range(3):\n",
        "    right(120)\n",
        "    forward(120)\n",
        "\n",
        "penup()\n",
        "right(72)\n",
        "pendown()\n",
        "\n",
        "for _ in range(3):\n",
        "    right(120)\n",
        "    forward(120)\n",
        "\n",
        "penup()\n",
        "right(72)\n",
        "pendown()\n",
        "\n",
        "for _ in range(3):\n",
        "    right(120)\n",
        "    forward(120)\n",
        "\n",
        "penup()\n",
        "right(72)\n",
        "pendown()\n",
        "\n",
        "for _ in range(3):\n",
        "    right(120)\n",
        "    forward(120)\n",
        "\n",
        "penup()\n",
        "right(72)\n",
        "pendown()\n",
        "\n",
        "\n"
      ],
      "metadata": {
        "colab": {
          "base_uri": "https://localhost:8080/",
          "height": 621
        },
        "id": "YXihdbDf5ndt",
        "outputId": "b01cadff-5be7-49a5-9550-6091a47ac7d6"
      },
      "execution_count": 50,
      "outputs": [
        {
          "output_type": "display_data",
          "data": {
            "text/plain": [
              "<IPython.core.display.HTML object>"
            ],
            "text/html": [
              "\n",
              "      <svg width=\"800\" height=\"600\">  \n",
              "        <rect width=\"100%\" height=\"100%\" style=\"fill:white;stroke:;stroke-width:1\"/>\n",
              "        \n",
              "        \n",
              "        <line x1=\"400.0\" y1=\"300.0\" x2=\"340.0\" y2=\"403.923\" stroke-linecap=\"round\" style=\"stroke:pink;stroke-width:1\" /><line x1=\"340.0\" y1=\"403.923\" x2=\"280.0\" y2=\"300.0\" stroke-linecap=\"round\" style=\"stroke:pink;stroke-width:1\" /><line x1=\"280.0\" y1=\"300.0\" x2=\"400.0\" y2=\"300.0\" stroke-linecap=\"round\" style=\"stroke:pink;stroke-width:1\" /><line x1=\"400.0\" y1=\"300.0\" x2=\"282.622\" y2=\"275.051\" stroke-linecap=\"round\" style=\"stroke:pink;stroke-width:1\" /><line x1=\"282.622\" y1=\"275.051\" x2=\"362.918\" y2=\"185.874\" stroke-linecap=\"round\" style=\"stroke:pink;stroke-width:1\" /><line x1=\"362.918\" y1=\"185.874\" x2=\"400.0\" y2=\"300.001\" stroke-linecap=\"round\" style=\"stroke:pink;stroke-width:1\" /><line x1=\"400.0\" y1=\"300.001\" x2=\"387.457\" y2=\"180.658\" stroke-linecap=\"round\" style=\"stroke:pink;stroke-width:1\" /><line x1=\"387.457\" y1=\"180.658\" x2=\"497.082\" y2=\"229.466\" stroke-linecap=\"round\" style=\"stroke:pink;stroke-width:1\" /><line x1=\"497.082\" y1=\"229.466\" x2=\"400.0\" y2=\"300.0\" stroke-linecap=\"round\" style=\"stroke:pink;stroke-width:1\" /><line x1=\"400.0\" y1=\"300.0\" x2=\"509.625\" y2=\"251.192\" stroke-linecap=\"round\" style=\"stroke:pink;stroke-width:1\" /><line x1=\"509.625\" y1=\"251.192\" x2=\"497.082\" y2=\"370.535\" stroke-linecap=\"round\" style=\"stroke:pink;stroke-width:1\" /><line x1=\"497.082\" y1=\"370.535\" x2=\"400.0\" y2=\"300.001\" stroke-linecap=\"round\" style=\"stroke:pink;stroke-width:1\" /><line x1=\"400.0\" y1=\"300.001\" x2=\"480.296\" y2=\"389.178\" stroke-linecap=\"round\" style=\"stroke:pink;stroke-width:1\" /><line x1=\"480.296\" y1=\"389.178\" x2=\"362.918\" y2=\"414.127\" stroke-linecap=\"round\" style=\"stroke:pink;stroke-width:1\" /><line x1=\"362.918\" y1=\"414.127\" x2=\"400.0\" y2=\"300.0\" stroke-linecap=\"round\" style=\"stroke:pink;stroke-width:1\" />\n",
              "        \n",
              "        \n",
              "        <g id=\"classic\" visibility=\"visible\" transform=\"rotate(198,400.0,300.0) translate(400.0, 300.0)\">\n",
              "<polygon points=\"-5,-4.5 0,-2.5 5,-4.5 0,4.5\" transform=\"skewX(0) scale(1,1)\" style=\"stroke:pink;fill:pink;stroke-width:1\" />\n",
              "<animateTransform id = \"one\" attributeName=\"transform\" \n",
              "                      type=\"scale\"\n",
              "                      from=\"1 1\" to=\"1 1\"\n",
              "                      begin=\"0s\" dur=\"0.01s\"\n",
              "                      repeatCount=\"1\"\n",
              "                      additive=\"sum\"\n",
              "                      fill=\"freeze\"\n",
              "                /><animateTransform attributeName=\"transform\"\n",
              "                    type=\"rotate\"\n",
              "                    from=\"0 0 0\" to =\"72 0 0\"\n",
              "                    begin=\"one.end\" dur=\"0.2s\"\n",
              "                    repeatCount=\"1\"\n",
              "                    additive=\"sum\"\n",
              "                    fill=\"freeze\"\n",
              "                /></g>\n",
              "      </svg>\n",
              "    "
            ]
          },
          "metadata": {}
        }
      ]
    },
    {
      "cell_type": "code",
      "source": [
        "initializeTurtle()\n",
        "color(\"black\")\n",
        "for i in range(5):\n",
        "  for _ in range(3):\n",
        "      right(120)\n",
        "      forward(120)\n",
        "  right(72)\n",
        "\n"
      ],
      "metadata": {
        "colab": {
          "base_uri": "https://localhost:8080/",
          "height": 621
        },
        "id": "283Qbure9JID",
        "outputId": "b9b90ede-081f-4d30-f6fa-850cb871b5f8"
      },
      "execution_count": 53,
      "outputs": [
        {
          "output_type": "display_data",
          "data": {
            "text/plain": [
              "<IPython.core.display.HTML object>"
            ],
            "text/html": [
              "\n",
              "      <svg width=\"800\" height=\"600\">  \n",
              "        <rect width=\"100%\" height=\"100%\" style=\"fill:white;stroke:;stroke-width:1\"/>\n",
              "        \n",
              "        \n",
              "        <line x1=\"400.0\" y1=\"300.0\" x2=\"340.0\" y2=\"403.923\" stroke-linecap=\"round\" style=\"stroke:black;stroke-width:1\" /><line x1=\"340.0\" y1=\"403.923\" x2=\"280.0\" y2=\"300.0\" stroke-linecap=\"round\" style=\"stroke:black;stroke-width:1\" /><line x1=\"280.0\" y1=\"300.0\" x2=\"400.0\" y2=\"300.0\" stroke-linecap=\"round\" style=\"stroke:black;stroke-width:1\" /><line x1=\"400.0\" y1=\"300.0\" x2=\"282.622\" y2=\"275.051\" stroke-linecap=\"round\" style=\"stroke:black;stroke-width:1\" /><line x1=\"282.622\" y1=\"275.051\" x2=\"362.918\" y2=\"185.874\" stroke-linecap=\"round\" style=\"stroke:black;stroke-width:1\" /><line x1=\"362.918\" y1=\"185.874\" x2=\"400.0\" y2=\"300.001\" stroke-linecap=\"round\" style=\"stroke:black;stroke-width:1\" /><line x1=\"400.0\" y1=\"300.001\" x2=\"387.457\" y2=\"180.658\" stroke-linecap=\"round\" style=\"stroke:black;stroke-width:1\" /><line x1=\"387.457\" y1=\"180.658\" x2=\"497.082\" y2=\"229.466\" stroke-linecap=\"round\" style=\"stroke:black;stroke-width:1\" /><line x1=\"497.082\" y1=\"229.466\" x2=\"400.0\" y2=\"300.0\" stroke-linecap=\"round\" style=\"stroke:black;stroke-width:1\" /><line x1=\"400.0\" y1=\"300.0\" x2=\"509.625\" y2=\"251.192\" stroke-linecap=\"round\" style=\"stroke:black;stroke-width:1\" /><line x1=\"509.625\" y1=\"251.192\" x2=\"497.082\" y2=\"370.535\" stroke-linecap=\"round\" style=\"stroke:black;stroke-width:1\" /><line x1=\"497.082\" y1=\"370.535\" x2=\"400.0\" y2=\"300.001\" stroke-linecap=\"round\" style=\"stroke:black;stroke-width:1\" /><line x1=\"400.0\" y1=\"300.001\" x2=\"480.296\" y2=\"389.178\" stroke-linecap=\"round\" style=\"stroke:black;stroke-width:1\" /><line x1=\"480.296\" y1=\"389.178\" x2=\"362.918\" y2=\"414.127\" stroke-linecap=\"round\" style=\"stroke:black;stroke-width:1\" /><line x1=\"362.918\" y1=\"414.127\" x2=\"400.0\" y2=\"300.0\" stroke-linecap=\"round\" style=\"stroke:black;stroke-width:1\" />\n",
              "        \n",
              "        \n",
              "        <g id=\"classic\" visibility=\"visible\" transform=\"rotate(198,400.0,300.0) translate(400.0, 300.0)\">\n",
              "<polygon points=\"-5,-4.5 0,-2.5 5,-4.5 0,4.5\" transform=\"skewX(0) scale(1,1)\" style=\"stroke:black;fill:black;stroke-width:1\" />\n",
              "<animateTransform id = \"one\" attributeName=\"transform\" \n",
              "                      type=\"scale\"\n",
              "                      from=\"1 1\" to=\"1 1\"\n",
              "                      begin=\"0s\" dur=\"0.01s\"\n",
              "                      repeatCount=\"1\"\n",
              "                      additive=\"sum\"\n",
              "                      fill=\"freeze\"\n",
              "                /><animateTransform attributeName=\"transform\"\n",
              "                    type=\"rotate\"\n",
              "                    from=\"0 0 0\" to =\"72 0 0\"\n",
              "                    begin=\"one.end\" dur=\"0.2s\"\n",
              "                    repeatCount=\"1\"\n",
              "                    additive=\"sum\"\n",
              "                    fill=\"freeze\"\n",
              "                /></g>\n",
              "      </svg>\n",
              "    "
            ]
          },
          "metadata": {}
        }
      ]
    },
    {
      "cell_type": "code",
      "source": [
        "initializeTurtle()\n",
        "for i in range(6):\n",
        "  if (i % 2 == 1):\n",
        "    pensize(1)\n",
        "    forward(100)\n",
        "\n",
        "  else:\n",
        "    pensize(5)\n",
        "    forward(100)\n",
        ""
      ],
      "metadata": {
        "colab": {
          "base_uri": "https://localhost:8080/",
          "height": 621
        },
        "id": "qcxZVMqh-aDE",
        "outputId": "b7d45a78-a8e1-48bb-f5b3-b4bbb0134e8a"
      },
      "execution_count": 85,
      "outputs": [
        {
          "output_type": "display_data",
          "data": {
            "text/plain": [
              "<IPython.core.display.HTML object>"
            ],
            "text/html": [
              "\n",
              "      <svg width=\"800\" height=\"600\">  \n",
              "        <rect width=\"100%\" height=\"100%\" style=\"fill:white;stroke:;stroke-width:1\"/>\n",
              "        \n",
              "        \n",
              "        <line x1=\"400.0\" y1=\"300.0\" x2=\"500.0\" y2=\"300.0\" stroke-linecap=\"round\" style=\"stroke:black;stroke-width:5\" /><line x1=\"500.0\" y1=\"300.0\" x2=\"600.0\" y2=\"300.0\" stroke-linecap=\"round\" style=\"stroke:black;stroke-width:1\" />\n",
              "        \n",
              "        \n",
              "        <g id=\"classic\" visibility=\"visible\" transform=\"rotate(90,400.0,500.0) translate(400.0, 500.0)\">\n",
              "<polygon points=\"-5,-4.5 0,-2.5 5,-4.5 0,4.5\" transform=\"skewX(0) scale(1,1)\" style=\"stroke:black;fill:black;stroke-width:1\" />\n",
              "<animateTransform id = \"one\" attributeName=\"transform\" \n",
              "                      type=\"scale\"\n",
              "                      from=\"1 1\" to=\"1 1\"\n",
              "                      begin=\"0s\" dur=\"0.01s\"\n",
              "                      repeatCount=\"1\"\n",
              "                      additive=\"sum\"\n",
              "                      fill=\"freeze\"\n",
              "                /><animateTransform attributeName=\"transform\"\n",
              "                    type=\"rotate\"\n",
              "                    from=\"0 0 0\" to =\"90 0 0\"\n",
              "                    begin=\"one.end\" dur=\"0.25s\"\n",
              "                    repeatCount=\"1\"\n",
              "                    additive=\"sum\"\n",
              "                    fill=\"freeze\"\n",
              "                /></g>\n",
              "      </svg>\n",
              "    "
            ]
          },
          "metadata": {}
        }
      ]
    },
    {
      "cell_type": "code",
      "source": [],
      "metadata": {
        "id": "aHwrMFhy-XqP"
      },
      "execution_count": null,
      "outputs": []
    }
  ]
}